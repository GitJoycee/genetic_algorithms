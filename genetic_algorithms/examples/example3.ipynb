{
 "cells": [
  {
   "cell_type": "code",
   "execution_count": 8,
   "metadata": {},
   "outputs": [
    {
     "data": {
      "text/plain": [
       "<matplotlib.image.AxesImage at 0x22dbbd7f048>"
      ]
     },
     "execution_count": 8,
     "metadata": {},
     "output_type": "execute_result"
    }
   ],
   "source": [
    "%matplotlib inline\n",
    "from PIL import Image, ImageFilter\n",
    "# import src as ga\n",
    "import numpy as np\n",
    "import matplotlib.pyplot as plt\n",
    "\n",
    "# Example 3 - create copy of image\n",
    "# mila = Image.open('data/mila_kunis.jpg')\n",
    "# toby = Image.open('data/toby_stephens.jpg')\n",
    "mila = Image.open('C:\\dev\\projects\\genetic-algorithms\\examples\\data\\mila_kunis.jpg')\n",
    "\n",
    "# ar_toby = np.array(toby)\n",
    "ar_mila = np.array(mila)\n",
    "\n",
    "plt.imshow(ar_mila)\n",
    "\n"
   ]
  },
  {
   "cell_type": "code",
   "execution_count": null,
   "metadata": {},
   "outputs": [],
   "source": []
  }
 ],
 "metadata": {},
 "nbformat": 4,
 "nbformat_minor": 0
}
